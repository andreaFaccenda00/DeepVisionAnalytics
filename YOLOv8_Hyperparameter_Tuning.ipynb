{
  "cells": [
    {
      "cell_type": "markdown",
      "metadata": {
        "id": "pwwNsIXMZl-D"
      },
      "source": [
        "# YOLOv8 Installation"
      ]
    },
    {
      "cell_type": "code",
      "execution_count": null,
      "metadata": {
        "colab": {
          "base_uri": "https://localhost:8080/"
        },
        "id": "B735WFu1ZVKl",
        "outputId": "a18d8e20-0805-4e80-c72f-a0a9df5389af"
      },
      "outputs": [],
      "source": [
        "# Mount Google Drive\n",
        "from google.colab import drive\n",
        "drive.mount('/content/gdrive')"
      ]
    },
    {
      "cell_type": "code",
      "execution_count": null,
      "metadata": {
        "id": "kTVwwxiCZp_p"
      },
      "outputs": [],
      "source": [
        "# Access Google Drive Folder\n",
        "import os\n",
        "os.chdir(\"gdrive/MyDrive\")"
      ]
    },
    {
      "cell_type": "code",
      "execution_count": null,
      "metadata": {
        "id": "-Gly9eaGZrOn"
      },
      "outputs": [],
      "source": [
        "# Create YOLOv8 root folder\n",
        "!mkdir yolov8-hyperparameter-tuning"
      ]
    },
    {
      "cell_type": "code",
      "execution_count": null,
      "metadata": {
        "colab": {
          "base_uri": "https://localhost:8080/"
        },
        "id": "hAZi4PHuZsjx",
        "outputId": "e7108c8b-0ca3-4766-a8ce-0a117ed11607"
      },
      "outputs": [],
      "source": [
        "# Go to YOLOv8 root folder\n",
        "%cd yolov8-hyperparameter-tuning"
      ]
    },
    {
      "cell_type": "code",
      "execution_count": null,
      "metadata": {
        "colab": {
          "base_uri": "https://localhost:8080/"
        },
        "id": "Tg0DJNdDZsn4",
        "outputId": "6d770578-9e3a-4ea6-a678-3a17c7504a8a"
      },
      "outputs": [],
      "source": [
        "# Install YOLOv8\n",
        "%pip install ultralytics\n",
        "\n",
        "import ultralytics\n",
        "ultralytics.checks()"
      ]
    },
    {
      "cell_type": "markdown",
      "metadata": {
        "id": "pthisQvxa2sN"
      },
      "source": [
        "# Prepare the Dataset"
      ]
    },
    {
      "cell_type": "code",
      "execution_count": null,
      "metadata": {
        "id": "Q5hwtEQDbFN6"
      },
      "outputs": [],
      "source": [
        "!mkdir data"
      ]
    },
    {
      "cell_type": "code",
      "execution_count": null,
      "metadata": {
        "colab": {
          "base_uri": "https://localhost:8080/"
        },
        "id": "B2ijVayAdKxO",
        "outputId": "e4fcbc90-f7ef-4ece-8e0b-4a951380f367"
      },
      "outputs": [],
      "source": [
        "# Go to data folder\n",
        "%cd data"
      ]
    },
    {
      "cell_type": "markdown",
      "metadata": {
        "id": "WLTL2j_8eG4a"
      },
      "source": [
        "## Download the dataset"
      ]
    },
    {
      "cell_type": "code",
      "execution_count": null,
      "metadata": {
        "colab": {
          "base_uri": "https://localhost:8080/"
        },
        "id": "LVsoM5ladONj",
        "outputId": "02b14bef-88e1-4697-c2e6-88894a1d5674"
      },
      "outputs": [],
      "source": [
        "# Download the dataset\n",
        "!gdown https://drive.google.com/uc?id=1--JiVz60-M6NJaigRp4tMlGmf_r_8KDC"
      ]
    },
    {
      "cell_type": "code",
      "execution_count": null,
      "metadata": {
        "colab": {
          "base_uri": "https://localhost:8080/"
        },
        "id": "XmyZiMafdUVc",
        "outputId": "5e460e41-9634-4916-c479-4c192a0a4b5f"
      },
      "outputs": [],
      "source": [
        "# Unzip Dataset\n",
        "!unzip face_mask.zip"
      ]
    },
    {
      "cell_type": "markdown",
      "metadata": {
        "id": "vpJChZ9AeBrB"
      },
      "source": [
        "## Split the dataset"
      ]
    },
    {
      "cell_type": "code",
      "execution_count": null,
      "metadata": {
        "colab": {
          "base_uri": "https://localhost:8080/"
        },
        "id": "oITikQ63dUZ2",
        "outputId": "2597dc0d-e9d3-4e6c-fba5-efb0d8663601"
      },
      "outputs": [],
      "source": [
        "# Download the python code\n",
        "!gdown https://drive.google.com/uc?id=1KFhEacb7ec6Hh5tLCaKY1lqElJwb7gjB"
      ]
    },
    {
      "cell_type": "code",
      "execution_count": null,
      "metadata": {
        "id": "HYyhtoOodUcZ"
      },
      "outputs": [],
      "source": [
        "# Split the dataset\n",
        "!python split_dataset.py --train 80 --validation 10 --test 10 --folder face_mask --dest face_mask_dataset"
      ]
    },
    {
      "cell_type": "markdown",
      "metadata": {
        "id": "ueoPwtgbepOc"
      },
      "source": [
        "## Data file"
      ]
    },
    {
      "cell_type": "code",
      "execution_count": null,
      "metadata": {
        "colab": {
          "base_uri": "https://localhost:8080/"
        },
        "id": "WpJHjgOhdUe8",
        "outputId": "de56a46a-0740-4485-bdac-0557dcdc1caa"
      },
      "outputs": [],
      "source": [
        "# Download the data file\n",
        "!gdown https://drive.google.com/uc?id=1EzCVqVkDW_eTcF5r9odEKptMmqquThdg"
      ]
    },
    {
      "cell_type": "code",
      "execution_count": null,
      "metadata": {
        "colab": {
          "base_uri": "https://localhost:8080/"
        },
        "id": "f48L8Fueexkr",
        "outputId": "1ce67d3a-6633-41ae-8c02-3ce415869da7"
      },
      "outputs": [],
      "source": [
        "# Get Absolute Path\n",
        "import os\n",
        "\n",
        "print(os.getcwd())"
      ]
    },
    {
      "cell_type": "code",
      "execution_count": null,
      "metadata": {
        "colab": {
          "base_uri": "https://localhost:8080/"
        },
        "id": "BS9hDaFDeyqM",
        "outputId": "020c096c-9e9e-4aa1-ef45-ee965d8a254c"
      },
      "outputs": [],
      "source": [
        "# Back to the root folder\n",
        "%cd ../"
      ]
    },
    {
      "cell_type": "markdown",
      "metadata": {
        "id": "fuB3Q73ua6MZ"
      },
      "source": [
        "# Training"
      ]
    },
    {
      "cell_type": "code",
      "execution_count": null,
      "metadata": {
        "colab": {
          "base_uri": "https://localhost:8080/"
        },
        "id": "jRHhVxbVe_PL",
        "outputId": "93657eb1-173d-4b7a-d61b-779e9cd323fe"
      },
      "outputs": [],
      "source": [
        "# Training\n",
        "!yolo detect train model=yolov8l.pt data=data/data.yaml workers=2 batch=12 device=0 epochs=100 patience=50 name=yolov8_facemask_default"
      ]
    },
    {
      "cell_type": "markdown",
      "metadata": {
        "id": "-WYeA6Dwa8HZ"
      },
      "source": [
        "# Training with Tuned Hyperparameters"
      ]
    },
    {
      "cell_type": "code",
      "execution_count": null,
      "metadata": {
        "colab": {
          "base_uri": "https://localhost:8080/"
        },
        "id": "lYtyQEjHkJol",
        "outputId": "2cb77c61-5d6a-47ce-fd19-92c7661db121"
      },
      "outputs": [],
      "source": [
        "# Training with Tuned Hyperparameters\n",
        "!yolo detect train model=yolov8l.pt data=data/data.yaml name=yolov8_facemask_tuning device=0 epochs=250 patience=30 workers=2 batch=12 lr0=0.01 lrf=0.01 momentum=0.95 weight_decay=0.0001 warmup_epochs=10 warmup_momentum=0.5 warmup_bias_lr=0.1 optimizer=SGD"
      ]
    },
    {
      "cell_type": "markdown",
      "metadata": {
        "id": "E5IG6VNLuW6R"
      },
      "source": [
        "# mAP"
      ]
    },
    {
      "cell_type": "code",
      "execution_count": null,
      "metadata": {
        "colab": {
          "base_uri": "https://localhost:8080/"
        },
        "id": "uc3_mieZuY6x",
        "outputId": "9a514abb-5bdc-4169-f22a-e4cb6bb7a866"
      },
      "outputs": [],
      "source": [
        "# Default YOLOv8 Facemask model\n",
        "!yolo detect val model=runs/detect/yolov8_facemask_default/weights/best.pt data=data/data.yaml iou=0.5 name=yolov8-facemask-default-val"
      ]
    },
    {
      "cell_type": "code",
      "execution_count": null,
      "metadata": {
        "colab": {
          "base_uri": "https://localhost:8080/"
        },
        "id": "0UtCYgmsuZTx",
        "outputId": "39829e9f-2518-4815-b890-748eaae3b96d"
      },
      "outputs": [],
      "source": [
        "# YOLOv8 Facemask model with tuned hyperparameters\n",
        "!yolo detect val model=runs/detect/yolov8_facemask_tuning/weights/best.pt data=data/data.yaml iou=0.5 name=yolov8-facemask-tuning-val"
      ]
    }
  ],
  "metadata": {
    "accelerator": "GPU",
    "colab": {
      "gpuType": "A100",
      "provenance": []
    },
    "kernelspec": {
      "display_name": "Python 3",
      "name": "python3"
    },
    "language_info": {
      "name": "python"
    }
  },
  "nbformat": 4,
  "nbformat_minor": 0
}
